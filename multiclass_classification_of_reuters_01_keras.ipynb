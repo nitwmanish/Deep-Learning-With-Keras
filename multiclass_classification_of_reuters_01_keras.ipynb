{
 "cells": [
  {
   "cell_type": "code",
   "execution_count": 1,
   "metadata": {},
   "outputs": [
    {
     "name": "stderr",
     "output_type": "stream",
     "text": [
      "Using TensorFlow backend.\n"
     ]
    }
   ],
   "source": [
    "from keras.datasets import reuters\n",
    "(train_data,train_labels),(test_data, test_labels) = reuters.load_data()"
   ]
  },
  {
   "cell_type": "code",
   "execution_count": 2,
   "metadata": {},
   "outputs": [
    {
     "data": {
      "text/plain": [
       "(8982,)"
      ]
     },
     "execution_count": 2,
     "metadata": {},
     "output_type": "execute_result"
    }
   ],
   "source": [
    "train_data.shape"
   ]
  },
  {
   "cell_type": "code",
   "execution_count": 3,
   "metadata": {},
   "outputs": [
    {
     "data": {
      "text/plain": [
       "(2246,)"
      ]
     },
     "execution_count": 3,
     "metadata": {},
     "output_type": "execute_result"
    }
   ],
   "source": [
    "test_data.shape"
   ]
  },
  {
   "cell_type": "code",
   "execution_count": 4,
   "metadata": {},
   "outputs": [
    {
     "data": {
      "text/plain": [
       "30981"
      ]
     },
     "execution_count": 4,
     "metadata": {},
     "output_type": "execute_result"
    }
   ],
   "source": [
    "max([max(sequence) for sequence in train_data])"
   ]
  },
  {
   "cell_type": "code",
   "execution_count": 5,
   "metadata": {},
   "outputs": [
    {
     "data": {
      "text/plain": [
       "30969"
      ]
     },
     "execution_count": 5,
     "metadata": {},
     "output_type": "execute_result"
    }
   ],
   "source": [
    "max([max(sequence) for sequence in test_data])"
   ]
  },
  {
   "cell_type": "code",
   "execution_count": 6,
   "metadata": {},
   "outputs": [
    {
     "name": "stdout",
     "output_type": "stream",
     "text": [
      "Downloading data from https://s3.amazonaws.com/text-datasets/reuters_word_index.json\n",
      "557056/550378 [==============================] - 18s 33us/step\n"
     ]
    }
   ],
   "source": [
    "word_index = reuters.get_word_index()\n",
    "reverse_word_index = dict([(value, key) for (key, value) in word_index.items()])\n",
    "decoded_reuters = ' '.join([reverse_word_index.get(i - 3, '?') for i in train_data[0]])"
   ]
  },
  {
   "cell_type": "code",
   "execution_count": 7,
   "metadata": {},
   "outputs": [
    {
     "data": {
      "text/plain": [
       "'? mcgrath rentcorp said as a result of its december acquisition of space co it expects earnings per share in 1987 of 1 15 to 1 30 dlrs per share up from 70 cts in 1986 the company said pretax net should rise to nine to 10 mln dlrs from six mln dlrs in 1986 and rental operation revenues to 19 to 22 mln dlrs from 12 5 mln dlrs it said cash flow per share this year should be 2 50 to three dlrs reuter 3'"
      ]
     },
     "execution_count": 7,
     "metadata": {},
     "output_type": "execute_result"
    }
   ],
   "source": [
    "decoded_reuters"
   ]
  },
  {
   "cell_type": "code",
   "execution_count": 6,
   "metadata": {},
   "outputs": [],
   "source": [
    "import numpy as np\n",
    "def vecorized_sequenses(sequenses , dimention=30982):\n",
    "    result = np.zeros((len(sequenses), dimention))\n",
    "    for i, sequense in enumerate(sequenses):\n",
    "        result[i, sequense] = 1.\n",
    "    return result"
   ]
  },
  {
   "cell_type": "code",
   "execution_count": 7,
   "metadata": {},
   "outputs": [],
   "source": [
    "x_train = vecorized_sequenses(train_data)\n",
    "x_test = vecorized_sequenses(test_data)"
   ]
  },
  {
   "cell_type": "code",
   "execution_count": 8,
   "metadata": {},
   "outputs": [],
   "source": [
    "def to_one_hot(labels, dimension=46):\n",
    "    results = np.zeros((len(labels), dimension))\n",
    "    for i, label in enumerate(labels):\n",
    "        results[i, label] = 1.\n",
    "    return results"
   ]
  },
  {
   "cell_type": "code",
   "execution_count": 9,
   "metadata": {},
   "outputs": [],
   "source": [
    "one_hot_train_labels = to_one_hot(train_labels)\n",
    "one_hot_test_labels = to_one_hot(test_labels)"
   ]
  },
  {
   "cell_type": "code",
   "execution_count": 10,
   "metadata": {},
   "outputs": [],
   "source": [
    "from keras.utils.np_utils import to_categorical\n",
    "one_hot_train_labels = to_categorical(train_labels)\n",
    "one_hot_test_labels = to_categorical(test_labels)"
   ]
  },
  {
   "cell_type": "code",
   "execution_count": 11,
   "metadata": {},
   "outputs": [],
   "source": [
    "from keras import layers\n",
    "from keras import models\n",
    "from keras import optimizers\n",
    "from keras import losses\n",
    "from keras import activations\n",
    "from keras import metrics"
   ]
  },
  {
   "cell_type": "code",
   "execution_count": 12,
   "metadata": {},
   "outputs": [],
   "source": [
    "model = models.Sequential()\n",
    "model.add(layers.Dense(64, activation=activations.relu, input_shape=(30982,)))\n",
    "model.add(layers.Dense(64, activation=activations.relu))\n",
    "model.add(layers.Dense(46, activation=activations.softmax))\n",
    "model.compile(optimizer=optimizers.RMSprop(lr=0.001), loss=losses.categorical_crossentropy, metrics=[metrics.binary_accuracy])"
   ]
  },
  {
   "cell_type": "code",
   "execution_count": 13,
   "metadata": {},
   "outputs": [],
   "source": [
    "x_val = x_train[:1000]\n",
    "partial_x_train = x_train[1000:]\n",
    "y_val = one_hot_train_labels[:1000]\n",
    "partial_y_train = one_hot_train_labels[1000:]"
   ]
  },
  {
   "cell_type": "code",
   "execution_count": 14,
   "metadata": {},
   "outputs": [
    {
     "name": "stdout",
     "output_type": "stream",
     "text": [
      "Train on 7982 samples, validate on 1000 samples\n",
      "Epoch 1/20\n",
      "7982/7982 [==============================] - 5s 603us/step - loss: 2.5390 - binary_accuracy: 0.9805 - val_loss: 1.7205 - val_binary_accuracy: 0.9853\n",
      "Epoch 2/20\n",
      "7982/7982 [==============================] - 4s 491us/step - loss: 1.4140 - binary_accuracy: 0.9881 - val_loss: 1.3335 - val_binary_accuracy: 0.9891\n",
      "Epoch 3/20\n",
      "7982/7982 [==============================] - 4s 481us/step - loss: 1.0347 - binary_accuracy: 0.9912 - val_loss: 1.1583 - val_binary_accuracy: 0.9903\n",
      "Epoch 4/20\n",
      "7982/7982 [==============================] - 4s 510us/step - loss: 0.7942 - binary_accuracy: 0.9928 - val_loss: 1.0701 - val_binary_accuracy: 0.9909\n",
      "Epoch 5/20\n",
      "7982/7982 [==============================] - 4s 497us/step - loss: 0.6199 - binary_accuracy: 0.9940 - val_loss: 0.9813 - val_binary_accuracy: 0.9911\n",
      "Epoch 6/20\n",
      "7982/7982 [==============================] - 4s 497us/step - loss: 0.4832 - binary_accuracy: 0.9951 - val_loss: 0.9352 - val_binary_accuracy: 0.9915\n",
      "Epoch 7/20\n",
      "7982/7982 [==============================] - 4s 496us/step - loss: 0.3812 - binary_accuracy: 0.9959 - val_loss: 0.9202 - val_binary_accuracy: 0.9917\n",
      "Epoch 8/20\n",
      "7982/7982 [==============================] - 4s 501us/step - loss: 0.3021 - binary_accuracy: 0.9966 - val_loss: 0.9690 - val_binary_accuracy: 0.9915\n",
      "Epoch 9/20\n",
      "7982/7982 [==============================] - 4s 499us/step - loss: 0.2459 - binary_accuracy: 0.9971 - val_loss: 0.9152 - val_binary_accuracy: 0.9920\n",
      "Epoch 10/20\n",
      "7982/7982 [==============================] - 4s 491us/step - loss: 0.2069 - binary_accuracy: 0.9975 - val_loss: 0.9357 - val_binary_accuracy: 0.9920\n",
      "Epoch 11/20\n",
      "7982/7982 [==============================] - 4s 501us/step - loss: 0.1813 - binary_accuracy: 0.9977 - val_loss: 0.9509 - val_binary_accuracy: 0.9922\n",
      "Epoch 12/20\n",
      "7982/7982 [==============================] - 4s 505us/step - loss: 0.1569 - binary_accuracy: 0.9979 - val_loss: 0.9359 - val_binary_accuracy: 0.9922\n",
      "Epoch 13/20\n",
      "7982/7982 [==============================] - 4s 495us/step - loss: 0.1470 - binary_accuracy: 0.9979 - val_loss: 0.9686 - val_binary_accuracy: 0.9921\n",
      "Epoch 14/20\n",
      "7982/7982 [==============================] - 4s 499us/step - loss: 0.1349 - binary_accuracy: 0.9980 - val_loss: 0.9840 - val_binary_accuracy: 0.9922\n",
      "Epoch 15/20\n",
      "7982/7982 [==============================] - 4s 510us/step - loss: 0.1242 - binary_accuracy: 0.9980 - val_loss: 0.9953 - val_binary_accuracy: 0.9923\n",
      "Epoch 16/20\n",
      "7982/7982 [==============================] - 4s 498us/step - loss: 0.1202 - binary_accuracy: 0.9981 - val_loss: 1.0657 - val_binary_accuracy: 0.9920\n",
      "Epoch 17/20\n",
      "7982/7982 [==============================] - 4s 511us/step - loss: 0.1121 - binary_accuracy: 0.9982 - val_loss: 1.0449 - val_binary_accuracy: 0.9918\n",
      "Epoch 18/20\n",
      "7982/7982 [==============================] - 4s 519us/step - loss: 0.1117 - binary_accuracy: 0.9981 - val_loss: 1.0732 - val_binary_accuracy: 0.9920\n",
      "Epoch 19/20\n",
      "7982/7982 [==============================] - 4s 532us/step - loss: 0.1069 - binary_accuracy: 0.9982 - val_loss: 1.1340 - val_binary_accuracy: 0.9915\n",
      "Epoch 20/20\n",
      "7982/7982 [==============================] - 4s 530us/step - loss: 0.1048 - binary_accuracy: 0.9983 - val_loss: 1.0823 - val_binary_accuracy: 0.9919\n"
     ]
    }
   ],
   "source": [
    "history = model.fit(partial_x_train, partial_y_train, epochs=20, batch_size=512, validation_data=(x_val, y_val))"
   ]
  },
  {
   "cell_type": "code",
   "execution_count": 15,
   "metadata": {},
   "outputs": [],
   "source": [
    "history_dic =  history.history"
   ]
  },
  {
   "cell_type": "code",
   "execution_count": 16,
   "metadata": {},
   "outputs": [
    {
     "data": {
      "text/plain": [
       "dict_keys(['val_loss', 'val_binary_accuracy', 'loss', 'binary_accuracy'])"
      ]
     },
     "execution_count": 16,
     "metadata": {},
     "output_type": "execute_result"
    }
   ],
   "source": [
    "history_dic.keys()"
   ]
  },
  {
   "cell_type": "code",
   "execution_count": 22,
   "metadata": {},
   "outputs": [
    {
     "data": {
      "image/png": "[encoded data removed]",
      "text/plain": [
       "<matplotlib.figure.Figure at 0x268c3737240>"
      ]
     },
     "metadata": {},
     "output_type": "display_data"
    }
   ],
   "source": [
    "import matplotlib.pyplot as plt\n",
    "loss_values = history_dic['loss']\n",
    "val_loss_values = history_dic['val_loss']\n",
    "epoch = range(1,len(history_dic['binary_accuracy'])+1)\n",
    "plt.plot(epoch, loss_values, 'bo', label='Traing Loss')\n",
    "plt.plot(epoch, val_loss_values, 'b', label='Validation Loss')\n",
    "plt.title('Traning and Validation Loss')\n",
    "plt.xlabel('Epochs')\n",
    "plt.ylabel('Loss')\n",
    "plt.legend()\n",
    "plt.show()"
   ]
  },
  {
   "cell_type": "code",
   "execution_count": 18,
   "metadata": {},
   "outputs": [
    {
     "data": {
      "image/png": "[encoded data removed]",
      "text/plain": [
       "<matplotlib.figure.Figure at 0x268c22dd4e0>"
      ]
     },
     "metadata": {},
     "output_type": "display_data"
    }
   ],
   "source": [
    "import matplotlib.pyplot as plt\n",
    "accuracy = history_dic['binary_accuracy']\n",
    "val_accuracy = history_dic['val_binary_accuracy']\n",
    "epoch = range(1,len(history_dic['binary_accuracy'])+1)\n",
    "plt.plot(epoch, accuracy, 'bo', label='Traing Accuracy')\n",
    "plt.plot(epoch, val_accuracy, 'b', label='Validation Accuracy')\n",
    "plt.title('Traning and Validation Accuracy')\n",
    "plt.xlabel('Epochs')\n",
    "plt.ylabel('Accuracy')\n",
    "plt.legend()\n",
    "plt.show()"
   ]
  },
  {
   "cell_type": "code",
   "execution_count": 19,
   "metadata": {},
   "outputs": [
    {
     "name": "stdout",
     "output_type": "stream",
     "text": [
      "Train on 7982 samples, validate on 1000 samples\n",
      "Epoch 1/9\n",
      "7982/7982 [==============================] - 4s 555us/step - loss: 2.5421 - binary_accuracy: 0.9801 - val_loss: 1.6676 - val_binary_accuracy: 0.9850\n",
      "Epoch 2/9\n",
      "7982/7982 [==============================] - 4s 517us/step - loss: 1.3350 - binary_accuracy: 0.9884 - val_loss: 1.2653 - val_binary_accuracy: 0.9896\n",
      "Epoch 3/9\n",
      "7982/7982 [==============================] - 4s 499us/step - loss: 0.9587 - binary_accuracy: 0.9917 - val_loss: 1.1281 - val_binary_accuracy: 0.9899\n",
      "Epoch 4/9\n",
      "7982/7982 [==============================] - 4s 507us/step - loss: 0.7321 - binary_accuracy: 0.9933 - val_loss: 1.0341 - val_binary_accuracy: 0.9909\n",
      "Epoch 5/9\n",
      "7982/7982 [==============================] - 4s 494us/step - loss: 0.5651 - binary_accuracy: 0.9945 - val_loss: 0.9620 - val_binary_accuracy: 0.9913\n",
      "Epoch 6/9\n",
      "7982/7982 [==============================] - 4s 514us/step - loss: 0.4389 - binary_accuracy: 0.9954 - val_loss: 0.9033 - val_binary_accuracy: 0.9919\n",
      "Epoch 7/9\n",
      "7982/7982 [==============================] - 4s 509us/step - loss: 0.3453 - binary_accuracy: 0.9962 - val_loss: 0.9009 - val_binary_accuracy: 0.9916\n",
      "Epoch 8/9\n",
      "7982/7982 [==============================] - 4s 497us/step - loss: 0.2784 - binary_accuracy: 0.9967 - val_loss: 0.8774 - val_binary_accuracy: 0.9923\n",
      "Epoch 9/9\n",
      "7982/7982 [==============================] - 4s 512us/step - loss: 0.2318 - binary_accuracy: 0.9971 - val_loss: 0.9594 - val_binary_accuracy: 0.9917\n"
     ]
    },
    {
     "data": {
      "text/plain": [
       "<keras.callbacks.History at 0x268c1f1dfd0>"
      ]
     },
     "execution_count": 19,
     "metadata": {},
     "output_type": "execute_result"
    }
   ],
   "source": [
    "model = models.Sequential()\n",
    "model.add(layers.Dense(64, activation=activations.relu, input_shape=(30982,)))\n",
    "model.add(layers.Dense(64, activation=activations.relu))\n",
    "model.add(layers.Dense(46, activation=activations.softmax))\n",
    "model.compile(optimizer=optimizers.RMSprop(lr=0.001), loss=losses.categorical_crossentropy, metrics=[metrics.binary_accuracy])\n",
    "model.fit(partial_x_train, partial_y_train, epochs=9, batch_size=512, validation_data=(x_val, y_val))"
   ]
  },
  {
   "cell_type": "code",
   "execution_count": 20,
   "metadata": {},
   "outputs": [
    {
     "name": "stdout",
     "output_type": "stream",
     "text": [
      "2246/2246 [==============================] - 1s 568us/step\n"
     ]
    }
   ],
   "source": [
    "results = model.evaluate(x_test, one_hot_test_labels)"
   ]
  },
  {
   "cell_type": "code",
   "execution_count": 21,
   "metadata": {},
   "outputs": [
    {
     "data": {
      "text/plain": [
       "[1.0624181812401872, 0.9907855638837771]"
      ]
     },
     "execution_count": 21,
     "metadata": {},
     "output_type": "execute_result"
    }
   ],
   "source": [
    "results"
   ]
  },
  {
   "cell_type": "code",
   "execution_count": null,
   "metadata": {},
   "outputs": [],
   "source": []
  }
 ],
 "metadata": {
  "kernelspec": {
   "display_name": "Python 3",
   "language": "python",
   "name": "python3"
  },
  "language_info": {
   "codemirror_mode": {
    "name": "ipython",
    "version": 3
   },
   "file_extension": ".py",
   "mimetype": "text/x-python",
   "name": "python",
   "nbconvert_exporter": "python",
   "pygments_lexer": "ipython3",
   "version": "3.6.3"
  }
 },
 "nbformat": 4,
 "nbformat_minor": 2
}
