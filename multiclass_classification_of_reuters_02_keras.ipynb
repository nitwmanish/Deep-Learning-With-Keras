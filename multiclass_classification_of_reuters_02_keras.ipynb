{
 "cells": [
  {
   "cell_type": "code",
   "execution_count": 1,
   "metadata": {},
   "outputs": [
    {
     "name": "stderr",
     "output_type": "stream",
     "text": [
      "Using TensorFlow backend.\n"
     ]
    }
   ],
   "source": [
    "from keras.datasets import reuters\n",
    "(train_data,train_lables),(test_data, test_labels) = reuters.load_data(num_words=1000)"
   ]
  },
  {
   "cell_type": "code",
   "execution_count": 2,
   "metadata": {},
   "outputs": [
    {
     "data": {
      "text/plain": [
       "(8982,)"
      ]
     },
     "execution_count": 2,
     "metadata": {},
     "output_type": "execute_result"
    }
   ],
   "source": [
    "train_data.shape"
   ]
  },
  {
   "cell_type": "code",
   "execution_count": 3,
   "metadata": {},
   "outputs": [],
   "source": [
    "import numpy as np\n",
    "def vecorized_sequences(sequences , dimention=10000):\n",
    "    result = np.zeros((len(sequences), dimention))\n",
    "    for index, sequence in enumerate(sequences):\n",
    "        result[index, sequence] = 1.0\n",
    "    return result    "
   ]
  },
  {
   "cell_type": "code",
   "execution_count": 4,
   "metadata": {},
   "outputs": [],
   "source": [
    "x_train = vecorized_sequences(train_data)\n",
    "x_test = vecorized_sequences(test_data)"
   ]
  },
  {
   "cell_type": "code",
   "execution_count": 5,
   "metadata": {},
   "outputs": [],
   "source": [
    "y_train = np.array(train_lables)\n",
    "y_test = np.array(test_labels)"
   ]
  },
  {
   "cell_type": "code",
   "execution_count": 6,
   "metadata": {},
   "outputs": [
    {
     "data": {
      "text/plain": [
       "array([ 3,  4,  3, ..., 25,  3, 25], dtype=int64)"
      ]
     },
     "execution_count": 6,
     "metadata": {},
     "output_type": "execute_result"
    }
   ],
   "source": [
    "y_train"
   ]
  },
  {
   "cell_type": "code",
   "execution_count": 7,
   "metadata": {},
   "outputs": [
    {
     "data": {
      "text/plain": [
       "45"
      ]
     },
     "execution_count": 7,
     "metadata": {},
     "output_type": "execute_result"
    }
   ],
   "source": [
    "max(y_train)"
   ]
  },
  {
   "cell_type": "code",
   "execution_count": 8,
   "metadata": {},
   "outputs": [],
   "source": [
    "from keras import layers\n",
    "from keras import models\n",
    "from keras import metrics\n",
    "from keras import optimizers\n",
    "from keras import losses\n",
    "from keras import activations"
   ]
  },
  {
   "cell_type": "code",
   "execution_count": 9,
   "metadata": {},
   "outputs": [],
   "source": [
    "model = models.Sequential()\n",
    "model.add(layers.Dense(64, activation='relu', input_shape=(10000,)))\n",
    "model.add(layers.Dense(64, activation='relu'))\n",
    "model.add(layers.Dense(46, activation='softmax'))\n",
    "model.compile(optimizer=optimizers.RMSprop(lr=0.001), loss=losses.sparse_categorical_crossentropy , metrics=['acc'])"
   ]
  },
  {
   "cell_type": "code",
   "execution_count": null,
   "metadata": {},
   "outputs": [],
   "source": []
  },
  {
   "cell_type": "code",
   "execution_count": 10,
   "metadata": {},
   "outputs": [],
   "source": [
    "x_val = x_train[:1000]\n",
    "partial_x_train = x_train[1000:]\n",
    "y_val = y_train[:1000]\n",
    "partial_y_train = y_train[1000:]"
   ]
  },
  {
   "cell_type": "code",
   "execution_count": 11,
   "metadata": {},
   "outputs": [
    {
     "name": "stdout",
     "output_type": "stream",
     "text": [
      "Train on 7982 samples, validate on 1000 samples\n",
      "Epoch 1/20\n",
      "7982/7982 [==============================] - 6s 814us/step - loss: 2.6008 - acc: 0.4900 - val_loss: 1.8174 - val_acc: 0.5810\n",
      "Epoch 2/20\n",
      "7982/7982 [==============================] - 4s 535us/step - loss: 1.6293 - acc: 0.6336 - val_loss: 1.4827 - val_acc: 0.6610\n",
      "Epoch 3/20\n",
      "7982/7982 [==============================] - 4s 507us/step - loss: 1.3620 - acc: 0.7007 - val_loss: 1.3242 - val_acc: 0.7120\n",
      "Epoch 4/20\n",
      "7982/7982 [==============================] - 5s 590us/step - loss: 1.1983 - acc: 0.7389 - val_loss: 1.2031 - val_acc: 0.7370\n",
      "Epoch 5/20\n",
      "7982/7982 [==============================] - 4s 467us/step - loss: 1.0724 - acc: 0.7677 - val_loss: 1.1241 - val_acc: 0.7540\n",
      "Epoch 6/20\n",
      "7982/7982 [==============================] - 4s 444us/step - loss: 0.9749 - acc: 0.7848 - val_loss: 1.0768 - val_acc: 0.7630\n",
      "Epoch 7/20\n",
      "7982/7982 [==============================] - 3s 432us/step - loss: 0.8975 - acc: 0.7974 - val_loss: 1.0344 - val_acc: 0.7610\n",
      "Epoch 8/20\n",
      "7982/7982 [==============================] - 4s 464us/step - loss: 0.8219 - acc: 0.8128 - val_loss: 1.0140 - val_acc: 0.7650\n",
      "Epoch 9/20\n",
      "7982/7982 [==============================] - 4s 441us/step - loss: 0.7616 - acc: 0.8222 - val_loss: 0.9746 - val_acc: 0.7780\n",
      "Epoch 10/20\n",
      "7982/7982 [==============================] - 4s 460us/step - loss: 0.7081 - acc: 0.8341 - val_loss: 0.9506 - val_acc: 0.7950\n",
      "Epoch 11/20\n",
      "7982/7982 [==============================] - 3s 419us/step - loss: 0.6532 - acc: 0.8493 - val_loss: 0.9463 - val_acc: 0.7890\n",
      "Epoch 12/20\n",
      "7982/7982 [==============================] - 3s 433us/step - loss: 0.6072 - acc: 0.8617 - val_loss: 0.9180 - val_acc: 0.8050\n",
      "Epoch 13/20\n",
      "7982/7982 [==============================] - 3s 405us/step - loss: 0.5716 - acc: 0.8654 - val_loss: 0.9208 - val_acc: 0.8000\n",
      "Epoch 14/20\n",
      "7982/7982 [==============================] - 3s 438us/step - loss: 0.5354 - acc: 0.8762 - val_loss: 0.9113 - val_acc: 0.7990\n",
      "Epoch 15/20\n",
      "7982/7982 [==============================] - 3s 410us/step - loss: 0.4945 - acc: 0.8875 - val_loss: 0.9054 - val_acc: 0.8030\n",
      "Epoch 16/20\n",
      "7982/7982 [==============================] - 3s 427us/step - loss: 0.4656 - acc: 0.8904 - val_loss: 0.9098 - val_acc: 0.8020\n",
      "Epoch 17/20\n",
      "7982/7982 [==============================] - 3s 418us/step - loss: 0.4389 - acc: 0.8954 - val_loss: 0.9108 - val_acc: 0.8020\n",
      "Epoch 18/20\n",
      "7982/7982 [==============================] - 3s 421us/step - loss: 0.4103 - acc: 0.9024 - val_loss: 0.9150 - val_acc: 0.8100\n",
      "Epoch 19/20\n",
      "7982/7982 [==============================] - 3s 413us/step - loss: 0.3943 - acc: 0.9047 - val_loss: 0.9297 - val_acc: 0.7970\n",
      "Epoch 20/20\n",
      "7982/7982 [==============================] - 3s 417us/step - loss: 0.3665 - acc: 0.9127 - val_loss: 0.9748 - val_acc: 0.7850\n"
     ]
    },
    {
     "data": {
      "text/plain": [
       "<keras.callbacks.History at 0x1a2959c74e0>"
      ]
     },
     "execution_count": 11,
     "metadata": {},
     "output_type": "execute_result"
    }
   ],
   "source": [
    "model.fit(partial_x_train,partial_y_train, epochs=20, batch_size=512, validation_data=(x_val,y_val))"
   ]
  },
  {
   "cell_type": "code",
   "execution_count": 12,
   "metadata": {},
   "outputs": [
    {
     "name": "stdout",
     "output_type": "stream",
     "text": [
      "2246/2246 [==============================] - 1s 575us/step\n"
     ]
    }
   ],
   "source": [
    "results = model.evaluate(x_test, y_test)"
   ]
  },
  {
   "cell_type": "code",
   "execution_count": 13,
   "metadata": {},
   "outputs": [
    {
     "data": {
      "text/plain": [
       "[1.0253750430826407, 0.7649154051647373]"
      ]
     },
     "execution_count": 13,
     "metadata": {},
     "output_type": "execute_result"
    }
   ],
   "source": [
    "results"
   ]
  },
  {
   "cell_type": "code",
   "execution_count": null,
   "metadata": {},
   "outputs": [],
   "source": []
  }
 ],
 "metadata": {
  "kernelspec": {
   "display_name": "Python 3",
   "language": "python",
   "name": "python3"
  },
  "language_info": {
   "codemirror_mode": {
    "name": "ipython",
    "version": 3
   },
   "file_extension": ".py",
   "mimetype": "text/x-python",
   "name": "python",
   "nbconvert_exporter": "python",
   "pygments_lexer": "ipython3",
   "version": "3.6.3"
  }
 },
 "nbformat": 4,
 "nbformat_minor": 2
}
