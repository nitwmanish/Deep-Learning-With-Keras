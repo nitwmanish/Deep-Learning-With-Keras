{
 "cells": [
  {
   "cell_type": "code",
   "execution_count": 1,
   "metadata": {},
   "outputs": [
    {
     "name": "stderr",
     "output_type": "stream",
     "text": [
      "Using TensorFlow backend.\n"
     ]
    }
   ],
   "source": [
    "from keras.datasets import imdb"
   ]
  },
  {
   "cell_type": "code",
   "execution_count": 2,
   "metadata": {},
   "outputs": [],
   "source": [
    "(train_data,train_labels),(test_data,test_labels) = imdb.load_data(num_words = 10000)"
   ]
  },
  {
   "cell_type": "code",
   "execution_count": 3,
   "metadata": {},
   "outputs": [
    {
     "data": {
      "text/plain": [
       "9999"
      ]
     },
     "execution_count": 3,
     "metadata": {},
     "output_type": "execute_result"
    }
   ],
   "source": [
    "max([max(sequence) for sequence in train_data])"
   ]
  },
  {
   "cell_type": "code",
   "execution_count": 4,
   "metadata": {},
   "outputs": [],
   "source": [
    "import numpy as np\n",
    "def vecorized_sequences(sequences , dimention =10000):\n",
    "    results = np.zeros((len(sequences), dimention))\n",
    "    for i, sequence in enumerate(sequences):\n",
    "        results[i,sequence] = 1.\n",
    "    return results"
   ]
  },
  {
   "cell_type": "code",
   "execution_count": 5,
   "metadata": {},
   "outputs": [],
   "source": [
    "x_train = vecorized_sequences(train_data)\n",
    "x_test = vecorized_sequences(test_data)"
   ]
  },
  {
   "cell_type": "code",
   "execution_count": 6,
   "metadata": {},
   "outputs": [],
   "source": [
    "y_train = np.asarray(train_labels).astype('float32')\n",
    "y_test = np.asarray(test_labels).astype('float32')"
   ]
  },
  {
   "cell_type": "code",
   "execution_count": 7,
   "metadata": {},
   "outputs": [],
   "source": [
    "x_val = x_train[:11000]\n",
    "x_partial_train = x_train[11000:]\n",
    "y_val = y_train[:11000]\n",
    "partial_y_train = y_train[11000:]"
   ]
  },
  {
   "cell_type": "code",
   "execution_count": 8,
   "metadata": {},
   "outputs": [],
   "source": [
    "from keras import layers\n",
    "from keras import models\n",
    "from keras import optimizers\n",
    "from keras import losses\n",
    "from keras import metrics\n",
    "from keras import activations"
   ]
  },
  {
   "cell_type": "code",
   "execution_count": 16,
   "metadata": {},
   "outputs": [],
   "source": [
    "model = models.Sequential()\n",
    "model.add(layers.Dense(64 , activation=activations.tanh, input_shape=(10000,)))\n",
    "model.add(layers.Dense(32, activation=activations.relu))\n",
    "model.add(layers.Dense(16, activation=activations.tanh))\n",
    "model.add(layers.Dense(1, activation=activations.tanh))\n",
    "model.compile(optimizer=optimizers.RMSprop(lr=0.001), loss=losses.mse, metrics=[metrics.binary_accuracy])"
   ]
  },
  {
   "cell_type": "code",
   "execution_count": 17,
   "metadata": {},
   "outputs": [
    {
     "name": "stdout",
     "output_type": "stream",
     "text": [
      "Train on 14000 samples, validate on 11000 samples\n",
      "Epoch 1/10\n",
      "14000/14000 [==============================] - 3s 246us/step - loss: 0.1899 - binary_accuracy: 0.7239 - val_loss: 0.1050 - val_binary_accuracy: 0.8715\n",
      "Epoch 2/10\n",
      "14000/14000 [==============================] - 3s 223us/step - loss: 0.0850 - binary_accuracy: 0.8939 - val_loss: 0.0947 - val_binary_accuracy: 0.8739\n",
      "Epoch 3/10\n",
      "14000/14000 [==============================] - 3s 216us/step - loss: 0.0551 - binary_accuracy: 0.9329 - val_loss: 0.0866 - val_binary_accuracy: 0.8864\n",
      "Epoch 4/10\n",
      "14000/14000 [==============================] - 3s 221us/step - loss: 0.0386 - binary_accuracy: 0.9531 - val_loss: 0.1026 - val_binary_accuracy: 0.8697\n",
      "Epoch 5/10\n",
      "14000/14000 [==============================] - 3s 217us/step - loss: 0.0293 - binary_accuracy: 0.9659 - val_loss: 0.0927 - val_binary_accuracy: 0.8805\n",
      "Epoch 6/10\n",
      "14000/14000 [==============================] - 3s 217us/step - loss: 0.0224 - binary_accuracy: 0.9749 - val_loss: 0.0940 - val_binary_accuracy: 0.8757\n",
      "Epoch 7/10\n",
      "14000/14000 [==============================] - 3s 237us/step - loss: 0.0165 - binary_accuracy: 0.9821 - val_loss: 0.0986 - val_binary_accuracy: 0.8713\n",
      "Epoch 8/10\n",
      "14000/14000 [==============================] - 4s 263us/step - loss: 0.0151 - binary_accuracy: 0.9831 - val_loss: 0.0977 - val_binary_accuracy: 0.8758\n",
      "Epoch 9/10\n",
      "14000/14000 [==============================] - 4s 266us/step - loss: 0.0041 - binary_accuracy: 0.9976 - val_loss: 0.1049 - val_binary_accuracy: 0.8729\n",
      "Epoch 10/10\n",
      "14000/14000 [==============================] - 4s 298us/step - loss: 0.0140 - binary_accuracy: 0.9855 - val_loss: 0.1017 - val_binary_accuracy: 0.8735\n"
     ]
    }
   ],
   "source": [
    "history = model.fit(x_partial_train,partial_y_train, epochs=10, batch_size=512, validation_data=(x_val,y_val))"
   ]
  },
  {
   "cell_type": "code",
   "execution_count": 18,
   "metadata": {},
   "outputs": [],
   "source": [
    "history_dict = history.history"
   ]
  },
  {
   "cell_type": "code",
   "execution_count": 19,
   "metadata": {},
   "outputs": [
    {
     "data": {
      "text/plain": [
       "dict_keys(['val_loss', 'val_binary_accuracy', 'loss', 'binary_accuracy'])"
      ]
     },
     "execution_count": 19,
     "metadata": {},
     "output_type": "execute_result"
    }
   ],
   "source": [
    "history_dict.keys()"
   ]
  },
  {
   "cell_type": "code",
   "execution_count": 20,
   "metadata": {},
   "outputs": [
    {
     "data": {
      "image/png": "[encoded data removed]",
      "text/plain": [
       "<matplotlib.figure.Figure at 0x2688f131828>"
      ]
     },
     "metadata": {},
     "output_type": "display_data"
    }
   ],
   "source": [
    "import matplotlib.pyplot as plt\n",
    "loss_values = history_dict['loss']\n",
    "val_loss_values = history_dict['val_loss']\n",
    "epochs = range(1, len(history_dict['binary_accuracy']) + 1)\n",
    "plt.plot(epochs, loss_values, 'bo', label='Training loss')\n",
    "plt.plot(epochs, val_loss_values, 'b', label='Validation loss')\n",
    "plt.title('Training and validation loss')\n",
    "plt.xlabel('Epochs')\n",
    "plt.ylabel('Loss')\n",
    "plt.legend()\n",
    "plt.show()"
   ]
  },
  {
   "cell_type": "code",
   "execution_count": 21,
   "metadata": {},
   "outputs": [
    {
     "data": {
      "image/png": "[encoded data removed]",
      "text/plain": [
       "<matplotlib.figure.Figure at 0x2688fdf65c0>"
      ]
     },
     "metadata": {},
     "output_type": "display_data"
    }
   ],
   "source": [
    "acc_values = history_dict['binary_accuracy']\n",
    "val_acc_values = history_dict['val_binary_accuracy']\n",
    "epochs = range(1, len(history_dict['binary_accuracy']) + 1)\n",
    "plt.plot(epochs, acc_values, 'bo', label='Training acc')\n",
    "plt.plot(epochs, val_acc_values, 'b', label='Validation acc')\n",
    "plt.title('Training and validation acc')\n",
    "plt.xlabel('Epochs')\n",
    "plt.ylabel('accuracy')\n",
    "plt.legend()\n",
    "plt.show()"
   ]
  },
  {
   "cell_type": "code",
   "execution_count": null,
   "metadata": {},
   "outputs": [],
   "source": []
  }
 ],
 "metadata": {
  "kernelspec": {
   "display_name": "Python 3",
   "language": "python",
   "name": "python3"
  },
  "language_info": {
   "codemirror_mode": {
    "name": "ipython",
    "version": 3
   },
   "file_extension": ".py",
   "mimetype": "text/x-python",
   "name": "python",
   "nbconvert_exporter": "python",
   "pygments_lexer": "ipython3",
   "version": "3.6.3"
  }
 },
 "nbformat": 4,
 "nbformat_minor": 2
}
