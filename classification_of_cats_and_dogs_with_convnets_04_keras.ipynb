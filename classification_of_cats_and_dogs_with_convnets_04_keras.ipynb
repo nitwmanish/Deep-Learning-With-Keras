{
 "cells": [
  {
   "cell_type": "code",
   "execution_count": 1,
   "metadata": {},
   "outputs": [
    {
     "name": "stderr",
     "output_type": "stream",
     "text": [
      "Using TensorFlow backend.\n"
     ]
    },
    {
     "name": "stdout",
     "output_type": "stream",
     "text": [
      "_________________________________________________________________\n",
      "Layer (type)                 Output Shape              Param #   \n",
      "=================================================================\n",
      "input_1 (InputLayer)         (None, 150, 150, 3)       0         \n",
      "_________________________________________________________________\n",
      "block1_conv1 (Conv2D)        (None, 150, 150, 64)      1792      \n",
      "_________________________________________________________________\n",
      "block1_conv2 (Conv2D)        (None, 150, 150, 64)      36928     \n",
      "_________________________________________________________________\n",
      "block1_pool (MaxPooling2D)   (None, 75, 75, 64)        0         \n",
      "_________________________________________________________________\n",
      "block2_conv1 (Conv2D)        (None, 75, 75, 128)       73856     \n",
      "_________________________________________________________________\n",
      "block2_conv2 (Conv2D)        (None, 75, 75, 128)       147584    \n",
      "_________________________________________________________________\n",
      "block2_pool (MaxPooling2D)   (None, 37, 37, 128)       0         \n",
      "_________________________________________________________________\n",
      "block3_conv1 (Conv2D)        (None, 37, 37, 256)       295168    \n",
      "_________________________________________________________________\n",
      "block3_conv2 (Conv2D)        (None, 37, 37, 256)       590080    \n",
      "_________________________________________________________________\n",
      "block3_conv3 (Conv2D)        (None, 37, 37, 256)       590080    \n",
      "_________________________________________________________________\n",
      "block3_pool (MaxPooling2D)   (None, 18, 18, 256)       0         \n",
      "_________________________________________________________________\n",
      "block4_conv1 (Conv2D)        (None, 18, 18, 512)       1180160   \n",
      "_________________________________________________________________\n",
      "block4_conv2 (Conv2D)        (None, 18, 18, 512)       2359808   \n",
      "_________________________________________________________________\n",
      "block4_conv3 (Conv2D)        (None, 18, 18, 512)       2359808   \n",
      "_________________________________________________________________\n",
      "block4_pool (MaxPooling2D)   (None, 9, 9, 512)         0         \n",
      "_________________________________________________________________\n",
      "block5_conv1 (Conv2D)        (None, 9, 9, 512)         2359808   \n",
      "_________________________________________________________________\n",
      "block5_conv2 (Conv2D)        (None, 9, 9, 512)         2359808   \n",
      "_________________________________________________________________\n",
      "block5_conv3 (Conv2D)        (None, 9, 9, 512)         2359808   \n",
      "_________________________________________________________________\n",
      "block5_pool (MaxPooling2D)   (None, 4, 4, 512)         0         \n",
      "=================================================================\n",
      "Total params: 14,714,688\n",
      "Trainable params: 14,714,688\n",
      "Non-trainable params: 0\n",
      "_________________________________________________________________\n"
     ]
    }
   ],
   "source": [
    "from keras.applications import VGG16\n",
    "conv_base = VGG16(weights='imagenet', include_top=False, input_shape=(150, 150, 3))\n",
    "conv_base.summary()"
   ]
  },
  {
   "cell_type": "code",
   "execution_count": 2,
   "metadata": {},
   "outputs": [],
   "source": [
    "from keras import models\n",
    "from keras import layers\n",
    "model = models.Sequential()\n",
    "model.add(conv_base)\n",
    "model.add(layers.Flatten())\n",
    "model.add(layers.Dense(256, activation='relu'))\n",
    "model.add(layers.Dense(1, activation='sigmoid'))"
   ]
  },
  {
   "cell_type": "code",
   "execution_count": 3,
   "metadata": {},
   "outputs": [
    {
     "name": "stdout",
     "output_type": "stream",
     "text": [
      "This is the number of trainable weights before freezing the conv base: 30\n"
     ]
    }
   ],
   "source": [
    "print('This is the number of trainable weights ''before freezing the conv base:', len(model.trainable_weights))"
   ]
  },
  {
   "cell_type": "code",
   "execution_count": 4,
   "metadata": {},
   "outputs": [
    {
     "name": "stdout",
     "output_type": "stream",
     "text": [
      "This is the number of trainable weights after freezing the conv base: 4\n"
     ]
    }
   ],
   "source": [
    "conv_base.trainable = False\n",
    "print('This is the number of trainable weights ''after freezing the conv base:', len(model.trainable_weights))"
   ]
  },
  {
   "cell_type": "code",
   "execution_count": 5,
   "metadata": {},
   "outputs": [],
   "source": [
    "from keras.preprocessing.image import ImageDataGenerator\n",
    "from keras import optimizers"
   ]
  },
  {
   "cell_type": "code",
   "execution_count": 6,
   "metadata": {},
   "outputs": [],
   "source": [
    "import os\n",
    "import numpy as np\n",
    "base_dir = r'C:\\cats_and_dogs_small'\n",
    "train_dir = os.path.join(base_dir, 'train')\n",
    "validation_dir = os.path.join(base_dir, 'validation')\n",
    "test_dir = os.path.join(base_dir, 'test')"
   ]
  },
  {
   "cell_type": "code",
   "execution_count": 7,
   "metadata": {},
   "outputs": [],
   "source": [
    "train_datagen = ImageDataGenerator(\n",
    "rescale=1./255,\n",
    "rotation_range=40,\n",
    "width_shift_range=0.2,\n",
    "height_shift_range=0.2,\n",
    "shear_range=0.2,\n",
    "zoom_range=0.2,\n",
    "horizontal_flip=True,\n",
    "fill_mode='nearest')"
   ]
  },
  {
   "cell_type": "code",
   "execution_count": 8,
   "metadata": {},
   "outputs": [],
   "source": [
    "test_datagen = ImageDataGenerator(rescale=1./255)"
   ]
  },
  {
   "cell_type": "code",
   "execution_count": 9,
   "metadata": {},
   "outputs": [
    {
     "name": "stdout",
     "output_type": "stream",
     "text": [
      "Found 2000 images belonging to 2 classes.\n"
     ]
    }
   ],
   "source": [
    "train_generator = train_datagen.flow_from_directory(\n",
    "train_dir,\n",
    "target_size=(150, 150),\n",
    "batch_size=20,\n",
    "class_mode='binary')"
   ]
  },
  {
   "cell_type": "code",
   "execution_count": 10,
   "metadata": {},
   "outputs": [
    {
     "name": "stdout",
     "output_type": "stream",
     "text": [
      "Found 1000 images belonging to 2 classes.\n"
     ]
    }
   ],
   "source": [
    "validation_generator = test_datagen.flow_from_directory(\n",
    "validation_dir,\n",
    "target_size=(150, 150),\n",
    "batch_size=20,\n",
    "class_mode='binary')"
   ]
  },
  {
   "cell_type": "code",
   "execution_count": 11,
   "metadata": {},
   "outputs": [],
   "source": [
    "model.compile(loss='binary_crossentropy',optimizer=optimizers.RMSprop(lr=2e-5),metrics=['acc'])"
   ]
  },
  {
   "cell_type": "code",
   "execution_count": 12,
   "metadata": {},
   "outputs": [
    {
     "name": "stdout",
     "output_type": "stream",
     "text": [
      "Epoch 1/30\n",
      "100/100 [==============================] - 1720s 17s/step - loss: 0.5900 - acc: 0.6980 - val_loss: 0.4454 - val_acc: 0.8260\n",
      "Epoch 2/30\n",
      "100/100 [==============================] - 1948s 19s/step - loss: 0.4774 - acc: 0.7955 - val_loss: 0.3795 - val_acc: 0.8330\n",
      "Epoch 3/30\n",
      "100/100 [==============================] - 2090s 21s/step - loss: 0.4227 - acc: 0.8080 - val_loss: 0.3227 - val_acc: 0.8770\n",
      "Epoch 4/30\n",
      "100/100 [==============================] - 2167s 22s/step - loss: 0.4024 - acc: 0.8250 - val_loss: 0.3014 - val_acc: 0.8770\n",
      "Epoch 5/30\n",
      "100/100 [==============================] - 1972s 20s/step - loss: 0.3923 - acc: 0.8295 - val_loss: 0.3034 - val_acc: 0.8790\n",
      "Epoch 6/30\n",
      "100/100 [==============================] - 2060s 21s/step - loss: 0.3721 - acc: 0.8375 - val_loss: 0.2789 - val_acc: 0.8830\n",
      "Epoch 7/30\n",
      "100/100 [==============================] - 2140s 21s/step - loss: 0.3562 - acc: 0.8495 - val_loss: 0.2695 - val_acc: 0.8860\n",
      "Epoch 8/30\n",
      "100/100 [==============================] - 2220s 22s/step - loss: 0.3546 - acc: 0.8460 - val_loss: 0.2685 - val_acc: 0.8900\n",
      "Epoch 9/30\n",
      "100/100 [==============================] - 2073s 21s/step - loss: 0.3467 - acc: 0.8525 - val_loss: 0.2659 - val_acc: 0.8880\n",
      "Epoch 10/30\n",
      "100/100 [==============================] - 2187s 22s/step - loss: 0.3347 - acc: 0.8490 - val_loss: 0.2571 - val_acc: 0.8950\n",
      "Epoch 11/30\n",
      "100/100 [==============================] - 1856s 19s/step - loss: 0.3387 - acc: 0.8560 - val_loss: 0.2657 - val_acc: 0.8840\n",
      "Epoch 12/30\n",
      "100/100 [==============================] - 1926s 19s/step - loss: 0.3271 - acc: 0.8595 - val_loss: 0.2602 - val_acc: 0.8890\n",
      "Epoch 13/30\n",
      "100/100 [==============================] - 1877s 19s/step - loss: 0.3231 - acc: 0.8550 - val_loss: 0.2484 - val_acc: 0.9060\n",
      "Epoch 14/30\n",
      "100/100 [==============================] - 1924s 19s/step - loss: 0.3263 - acc: 0.8640 - val_loss: 0.2497 - val_acc: 0.8960\n",
      "Epoch 15/30\n",
      "100/100 [==============================] - 1854s 19s/step - loss: 0.3055 - acc: 0.8685 - val_loss: 0.2497 - val_acc: 0.8960\n",
      "Epoch 16/30\n",
      "100/100 [==============================] - 1894s 19s/step - loss: 0.3112 - acc: 0.8690 - val_loss: 0.2514 - val_acc: 0.8930\n",
      "Epoch 17/30\n",
      "100/100 [==============================] - 1903s 19s/step - loss: 0.3102 - acc: 0.8650 - val_loss: 0.2475 - val_acc: 0.8950\n",
      "Epoch 18/30\n",
      "100/100 [==============================] - 1895s 19s/step - loss: 0.3174 - acc: 0.8660 - val_loss: 0.2410 - val_acc: 0.8980\n",
      "Epoch 19/30\n",
      "100/100 [==============================] - 1993s 20s/step - loss: 0.3024 - acc: 0.8745 - val_loss: 0.2413 - val_acc: 0.8980\n",
      "Epoch 20/30\n",
      "100/100 [==============================] - 1940s 19s/step - loss: 0.3017 - acc: 0.8725 - val_loss: 0.2400 - val_acc: 0.8960\n",
      "Epoch 21/30\n",
      "100/100 [==============================] - 1960s 20s/step - loss: 0.3180 - acc: 0.8605 - val_loss: 0.2397 - val_acc: 0.8960\n",
      "Epoch 22/30\n",
      "100/100 [==============================] - 1929s 19s/step - loss: 0.3024 - acc: 0.8650 - val_loss: 0.2386 - val_acc: 0.8970\n",
      "Epoch 23/30\n",
      "100/100 [==============================] - 2047s 20s/step - loss: 0.2872 - acc: 0.8735 - val_loss: 0.2424 - val_acc: 0.8990\n",
      "Epoch 24/30\n",
      "100/100 [==============================] - 2125s 21s/step - loss: 0.2934 - acc: 0.8820 - val_loss: 0.2406 - val_acc: 0.9010\n",
      "Epoch 25/30\n",
      "100/100 [==============================] - 2028s 20s/step - loss: 0.2915 - acc: 0.8715 - val_loss: 0.2370 - val_acc: 0.8980\n",
      "Epoch 26/30\n",
      "100/100 [==============================] - 1986s 20s/step - loss: 0.2945 - acc: 0.8675 - val_loss: 0.2384 - val_acc: 0.8980\n",
      "Epoch 27/30\n",
      "100/100 [==============================] - 1916s 19s/step - loss: 0.2740 - acc: 0.8780 - val_loss: 0.2378 - val_acc: 0.9000\n",
      "Epoch 28/30\n",
      "100/100 [==============================] - 1910s 19s/step - loss: 0.2929 - acc: 0.8700 - val_loss: 0.2366 - val_acc: 0.8990\n",
      "Epoch 29/30\n",
      "100/100 [==============================] - 1883s 19s/step - loss: 0.2726 - acc: 0.8885 - val_loss: 0.2365 - val_acc: 0.9010\n",
      "Epoch 30/30\n",
      "100/100 [==============================] - 1884s 19s/step - loss: 0.2697 - acc: 0.8865 - val_loss: 0.2375 - val_acc: 0.9060\n"
     ]
    }
   ],
   "source": [
    "history = model.fit_generator(\n",
    "train_generator,\n",
    "steps_per_epoch=100,\n",
    "epochs=30,\n",
    "validation_data=validation_generator,\n",
    "validation_steps=50)"
   ]
  },
  {
   "cell_type": "code",
   "execution_count": 13,
   "metadata": {},
   "outputs": [],
   "source": [
    "model.save('cats_and_dogs_small_4.h5')"
   ]
  },
  {
   "cell_type": "code",
   "execution_count": 15,
   "metadata": {},
   "outputs": [
    {
     "data": {
      "image/png": "[encoded data removed]",
      "text/plain": [
       "<matplotlib.figure.Figure at 0x2100fa9e1d0>"
      ]
     },
     "metadata": {},
     "output_type": "display_data"
    },
    {
     "data": {
      "image/png": "[encoded data removed]",
      "text/plain": [
       "<matplotlib.figure.Figure at 0x2100fb435c0>"
      ]
     },
     "metadata": {},
     "output_type": "display_data"
    }
   ],
   "source": [
    "import matplotlib.pyplot as plt\n",
    "acc = history.history['acc']\n",
    "val_acc = history.history['val_acc']\n",
    "loss = history.history['loss']\n",
    "val_loss = history.history['val_loss']\n",
    "epochs = range(1, len(acc) + 1)\n",
    "plt.plot(epochs, acc, 'bo', label='Training acc')\n",
    "plt.plot(epochs, val_acc, 'b', label='Validation acc')\n",
    "plt.title('Training and validation accuracy')\n",
    "plt.legend()\n",
    "plt.figure()\n",
    "plt.plot(epochs, loss, 'bo', label='Training loss')\n",
    "plt.plot(epochs, val_loss, 'b', label='Validation loss')\n",
    "plt.title('Training and validation loss')\n",
    "plt.legend()\n",
    "plt.show()"
   ]
  },
  {
   "cell_type": "code",
   "execution_count": null,
   "metadata": {},
   "outputs": [],
   "source": []
  }
 ],
 "metadata": {
  "kernelspec": {
   "display_name": "Python 3",
   "language": "python",
   "name": "python3"
  },
  "language_info": {
   "codemirror_mode": {
    "name": "ipython",
    "version": 3
   },
   "file_extension": ".py",
   "mimetype": "text/x-python",
   "name": "python",
   "nbconvert_exporter": "python",
   "pygments_lexer": "ipython3",
   "version": "3.7.1"
  }
 },
 "nbformat": 4,
 "nbformat_minor": 2
}
