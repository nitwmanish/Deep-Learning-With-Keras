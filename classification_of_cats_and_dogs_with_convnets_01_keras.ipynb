{
 "cells": [
  {
   "cell_type": "code",
   "execution_count": 1,
   "metadata": {},
   "outputs": [],
   "source": [
    "import os, shutil\n",
    "original_dataset_dir = r'C:\\kaggle_original_dat\\train'\n",
    "base_dir = r'C:\\cats_and_dogs_small'\n",
    "\n",
    "if not os.path.exists(base_dir):\n",
    "    os.mkdir(base_dir)\n",
    "\n",
    "train_dir = os.path.join(base_dir, 'train')\n",
    "if not os.path.exists(train_dir):\n",
    "    os.mkdir(train_dir)\n",
    "\n",
    "validation_dir = os.path.join(base_dir, 'validation')\n",
    "if not os.path.exists(validation_dir):\n",
    "    os.mkdir(validation_dir)\n",
    "\n",
    "test_dir = os.path.join(base_dir, 'test')\n",
    "if not os.path.exists(test_dir):\n",
    "    os.mkdir(test_dir)\n",
    "\n",
    "train_cats_dir = os.path.join(train_dir, 'cats')\n",
    "if not os.path.exists(train_cats_dir):\n",
    "    os.mkdir(train_cats_dir)\n",
    "\n",
    "train_dogs_dir = os.path.join(train_dir, 'dogs')\n",
    "if not os.path.exists(train_dogs_dir):\n",
    "    os.mkdir(train_dogs_dir)\n",
    "\n",
    "validation_cats_dir = os.path.join(validation_dir, 'cats')\n",
    "if not os.path.exists(validation_cats_dir):\n",
    "    os.mkdir(validation_cats_dir)\n",
    "\n",
    "validation_dogs_dir = os.path.join(validation_dir, 'dogs')\n",
    "if not os.path.exists(validation_dogs_dir):\n",
    "    os.mkdir(validation_dogs_dir)\n",
    "\n",
    "test_cats_dir = os.path.join(test_dir, 'cats')\n",
    "if not os.path.exists(test_cats_dir):\n",
    "    os.mkdir(test_cats_dir)\n",
    "\n",
    "test_dogs_dir = os.path.join(test_dir, 'dogs')\n",
    "if not os.path.exists(test_dogs_dir):\n",
    "    os.mkdir(test_dogs_dir)"
   ]
  },
  {
   "cell_type": "code",
   "execution_count": 2,
   "metadata": {},
   "outputs": [],
   "source": [
    "if not os.path.exists(train_cats_dir):  \n",
    "    fnames = ['cat.{}.jpg'.format(i) for i in range(1000)]\n",
    "    for fname in fnames:\n",
    "        src = os.path.join(original_dataset_dir, fname)\n",
    "        dst = os.path.join(train_cats_dir, fname)\n",
    "        shutil.copyfile(src, dst)"
   ]
  },
  {
   "cell_type": "code",
   "execution_count": 3,
   "metadata": {},
   "outputs": [],
   "source": [
    "if not os.path.exists(validation_cats_dir):\n",
    "    fnames = ['cat.{}.jpg'.format(i) for i in range(1000, 1500)]\n",
    "    for fname in fnames:\n",
    "        src = os.path.join(original_dataset_dir, fname)\n",
    "        dst = os.path.join(validation_cats_dir, fname)\n",
    "        shutil.copyfile(src, dst)"
   ]
  },
  {
   "cell_type": "code",
   "execution_count": 4,
   "metadata": {},
   "outputs": [],
   "source": [
    "if not os.path.exists(test_cats_dir):\n",
    "    fnames = ['cat.{}.jpg'.format(i) for i in range(1500, 2000)]\n",
    "    for fname in fnames:\n",
    "        src = os.path.join(original_dataset_dir, fname)\n",
    "        dst = os.path.join(test_cats_dir, fname)\n",
    "        shutil.copyfile(src, dst)"
   ]
  },
  {
   "cell_type": "code",
   "execution_count": 5,
   "metadata": {},
   "outputs": [],
   "source": [
    "if not os.path.exists(train_dogs_dir):\n",
    "    fnames = ['dog.{}.jpg'.format(i) for i in range(1000)]\n",
    "    for fname in fnames:\n",
    "        src = os.path.join(original_dataset_dir, fname)\n",
    "        dst = os.path.join(train_dogs_dir, fname)\n",
    "        shutil.copyfile(src, dst)"
   ]
  },
  {
   "cell_type": "code",
   "execution_count": 6,
   "metadata": {},
   "outputs": [],
   "source": [
    "if not os.path.exists(validation_dogs_dir):\n",
    "    fnames = ['dog.{}.jpg'.format(i) for i in range(1000, 1500)]\n",
    "    for fname in fnames:\n",
    "        src = os.path.join(original_dataset_dir, fname)\n",
    "        dst = os.path.join(validation_dogs_dir, fname)\n",
    "        shutil.copyfile(src, dst)"
   ]
  },
  {
   "cell_type": "code",
   "execution_count": 7,
   "metadata": {},
   "outputs": [],
   "source": [
    "if not os.path.exists(test_dogs_dir):\n",
    "    fnames = ['dog.{}.jpg'.format(i) for i in range(1500, 2000)]\n",
    "    for fname in fnames:\n",
    "        src = os.path.join(original_dataset_dir, fname)\n",
    "        dst = os.path.join(test_dogs_dir, fname)\n",
    "        shutil.copyfile(src, dst)"
   ]
  },
  {
   "cell_type": "code",
   "execution_count": 8,
   "metadata": {},
   "outputs": [
    {
     "name": "stdout",
     "output_type": "stream",
     "text": [
      "total training cat images: 1000\n"
     ]
    }
   ],
   "source": [
    "print('total training cat images:', len(os.listdir(train_cats_dir)))"
   ]
  },
  {
   "cell_type": "code",
   "execution_count": 9,
   "metadata": {},
   "outputs": [
    {
     "name": "stdout",
     "output_type": "stream",
     "text": [
      "total training dog images: 1000\n"
     ]
    }
   ],
   "source": [
    "print('total training dog images:', len(os.listdir(train_dogs_dir)))"
   ]
  },
  {
   "cell_type": "code",
   "execution_count": 10,
   "metadata": {},
   "outputs": [
    {
     "name": "stdout",
     "output_type": "stream",
     "text": [
      "total validation cat images: 500\n"
     ]
    }
   ],
   "source": [
    "print('total validation cat images:', len(os.listdir(validation_cats_dir)))"
   ]
  },
  {
   "cell_type": "code",
   "execution_count": 11,
   "metadata": {},
   "outputs": [
    {
     "name": "stdout",
     "output_type": "stream",
     "text": [
      "total validation dog images: 500\n"
     ]
    }
   ],
   "source": [
    "print('total validation dog images:', len(os.listdir(validation_dogs_dir)))"
   ]
  },
  {
   "cell_type": "code",
   "execution_count": 12,
   "metadata": {},
   "outputs": [
    {
     "name": "stdout",
     "output_type": "stream",
     "text": [
      "total test cat images: 500\n"
     ]
    }
   ],
   "source": [
    "print('total test cat images:', len(os.listdir(test_cats_dir)))"
   ]
  },
  {
   "cell_type": "code",
   "execution_count": 13,
   "metadata": {},
   "outputs": [
    {
     "name": "stdout",
     "output_type": "stream",
     "text": [
      "total test dog images: 500\n"
     ]
    }
   ],
   "source": [
    "print('total test dog images:', len(os.listdir(test_dogs_dir)))"
   ]
  },
  {
   "cell_type": "code",
   "execution_count": 14,
   "metadata": {},
   "outputs": [
    {
     "name": "stderr",
     "output_type": "stream",
     "text": [
      "Using TensorFlow backend.\n"
     ]
    }
   ],
   "source": [
    "from keras import layers\n",
    "from keras import models\n",
    "model = models.Sequential()\n",
    "model.add(layers.Conv2D(32, (3, 3), activation='relu',\n",
    "input_shape=(150, 150, 3)))\n",
    "model.add(layers.MaxPooling2D((2, 2)))\n",
    "model.add(layers.Conv2D(64, (3, 3), activation='relu'))\n",
    "model.add(layers.MaxPooling2D((2, 2)))\n",
    "model.add(layers.Conv2D(128, (3, 3), activation='relu'))\n",
    "model.add(layers.MaxPooling2D((2, 2)))\n",
    "model.add(layers.Conv2D(128, (3, 3), activation='relu'))\n",
    "model.add(layers.MaxPooling2D((2, 2)))\n",
    "model.add(layers.Flatten())\n",
    "model.add(layers.Dense(512, activation='relu'))\n",
    "model.add(layers.Dense(1, activation='sigmoid'))"
   ]
  },
  {
   "cell_type": "code",
   "execution_count": 15,
   "metadata": {},
   "outputs": [
    {
     "name": "stdout",
     "output_type": "stream",
     "text": [
      "_________________________________________________________________\n",
      "Layer (type)                 Output Shape              Param #   \n",
      "=================================================================\n",
      "conv2d_1 (Conv2D)            (None, 148, 148, 32)      896       \n",
      "_________________________________________________________________\n",
      "max_pooling2d_1 (MaxPooling2 (None, 74, 74, 32)        0         \n",
      "_________________________________________________________________\n",
      "conv2d_2 (Conv2D)            (None, 72, 72, 64)        18496     \n",
      "_________________________________________________________________\n",
      "max_pooling2d_2 (MaxPooling2 (None, 36, 36, 64)        0         \n",
      "_________________________________________________________________\n",
      "conv2d_3 (Conv2D)            (None, 34, 34, 128)       73856     \n",
      "_________________________________________________________________\n",
      "max_pooling2d_3 (MaxPooling2 (None, 17, 17, 128)       0         \n",
      "_________________________________________________________________\n",
      "conv2d_4 (Conv2D)            (None, 15, 15, 128)       147584    \n",
      "_________________________________________________________________\n",
      "max_pooling2d_4 (MaxPooling2 (None, 7, 7, 128)         0         \n",
      "_________________________________________________________________\n",
      "flatten_1 (Flatten)          (None, 6272)              0         \n",
      "_________________________________________________________________\n",
      "dense_1 (Dense)              (None, 512)               3211776   \n",
      "_________________________________________________________________\n",
      "dense_2 (Dense)              (None, 1)                 513       \n",
      "=================================================================\n",
      "Total params: 3,453,121\n",
      "Trainable params: 3,453,121\n",
      "Non-trainable params: 0\n",
      "_________________________________________________________________\n"
     ]
    }
   ],
   "source": [
    "model.summary()"
   ]
  },
  {
   "cell_type": "code",
   "execution_count": 16,
   "metadata": {},
   "outputs": [],
   "source": [
    "from keras import optimizers\n",
    "model.compile(loss='binary_crossentropy',optimizer=optimizers.RMSprop(lr=1e-4),metrics=['acc'])"
   ]
  },
  {
   "cell_type": "code",
   "execution_count": 17,
   "metadata": {},
   "outputs": [
    {
     "name": "stdout",
     "output_type": "stream",
     "text": [
      "Found 2000 images belonging to 2 classes.\n",
      "Found 1000 images belonging to 2 classes.\n"
     ]
    }
   ],
   "source": [
    "from keras.preprocessing.image import ImageDataGenerator\n",
    "train_datagen = ImageDataGenerator(rescale=1./255)\n",
    "test_datagen = ImageDataGenerator(rescale=1./255)\n",
    "train_generator = train_datagen.flow_from_directory(\n",
    "train_dir,\n",
    "target_size=(150, 150),\n",
    "batch_size=20,\n",
    "class_mode='binary'\n",
    ")\n",
    "validation_generator = test_datagen.flow_from_directory(\n",
    "validation_dir,\n",
    "target_size=(150, 150),\n",
    "batch_size=20,\n",
    "class_mode='binary'\n",
    ")"
   ]
  },
  {
   "cell_type": "code",
   "execution_count": 18,
   "metadata": {},
   "outputs": [
    {
     "name": "stdout",
     "output_type": "stream",
     "text": [
      "data batch shape: (20, 150, 150, 3)\n",
      "labels batch shape: (20,)\n"
     ]
    }
   ],
   "source": [
    "for data_batch, labels_batch in train_generator:\n",
    "    print('data batch shape:', data_batch.shape)\n",
    "    print('labels batch shape:', labels_batch.shape)\n",
    "    break"
   ]
  },
  {
   "cell_type": "code",
   "execution_count": 19,
   "metadata": {},
   "outputs": [
    {
     "name": "stdout",
     "output_type": "stream",
     "text": [
      "Epoch 1/30\n",
      "100/100 [==============================] - 146s 1s/step - loss: 0.6859 - acc: 0.5435 - val_loss: 0.6622 - val_acc: 0.6360\n",
      "Epoch 2/30\n",
      "100/100 [==============================] - 165s 2s/step - loss: 0.6384 - acc: 0.6335 - val_loss: 0.6169 - val_acc: 0.6810\n",
      "Epoch 3/30\n",
      "100/100 [==============================] - 161s 2s/step - loss: 0.5918 - acc: 0.6805 - val_loss: 0.5915 - val_acc: 0.6840\n",
      "Epoch 4/30\n",
      "100/100 [==============================] - 166s 2s/step - loss: 0.5606 - acc: 0.7095 - val_loss: 0.5756 - val_acc: 0.6940\n",
      "Epoch 5/30\n",
      "100/100 [==============================] - 171s 2s/step - loss: 0.5324 - acc: 0.7360 - val_loss: 0.5903 - val_acc: 0.6790\n",
      "Epoch 6/30\n",
      "100/100 [==============================] - 178s 2s/step - loss: 0.5058 - acc: 0.7460 - val_loss: 0.5659 - val_acc: 0.6960\n",
      "Epoch 7/30\n",
      "100/100 [==============================] - 178s 2s/step - loss: 0.4832 - acc: 0.7660 - val_loss: 0.5610 - val_acc: 0.7010\n",
      "Epoch 8/30\n",
      "100/100 [==============================] - 177s 2s/step - loss: 0.4640 - acc: 0.7890 - val_loss: 0.5956 - val_acc: 0.6800\n",
      "Epoch 9/30\n",
      "100/100 [==============================] - 169s 2s/step - loss: 0.4338 - acc: 0.7955 - val_loss: 0.5280 - val_acc: 0.7200\n",
      "Epoch 10/30\n",
      "100/100 [==============================] - 135s 1s/step - loss: 0.4105 - acc: 0.8090 - val_loss: 0.5406 - val_acc: 0.7190\n",
      "Epoch 11/30\n",
      "100/100 [==============================] - 165s 2s/step - loss: 0.3937 - acc: 0.8190 - val_loss: 0.5307 - val_acc: 0.7270\n",
      "Epoch 12/30\n",
      "100/100 [==============================] - 168s 2s/step - loss: 0.3716 - acc: 0.8320 - val_loss: 0.5627 - val_acc: 0.7150\n",
      "Epoch 13/30\n",
      "100/100 [==============================] - 168s 2s/step - loss: 0.3508 - acc: 0.8435 - val_loss: 0.5408 - val_acc: 0.7250\n",
      "Epoch 14/30\n",
      "100/100 [==============================] - 166s 2s/step - loss: 0.3317 - acc: 0.8575 - val_loss: 0.5450 - val_acc: 0.7260\n",
      "Epoch 15/30\n",
      "100/100 [==============================] - 169s 2s/step - loss: 0.3048 - acc: 0.8750 - val_loss: 0.5686 - val_acc: 0.7310\n",
      "Epoch 16/30\n",
      "100/100 [==============================] - 156s 2s/step - loss: 0.2862 - acc: 0.8800 - val_loss: 0.5522 - val_acc: 0.7480\n",
      "Epoch 17/30\n",
      "100/100 [==============================] - 215s 2s/step - loss: 0.2667 - acc: 0.8970 - val_loss: 0.5855 - val_acc: 0.7470\n",
      "Epoch 18/30\n",
      "100/100 [==============================] - 292s 3s/step - loss: 0.2480 - acc: 0.9065 - val_loss: 0.6857 - val_acc: 0.7090\n",
      "Epoch 19/30\n",
      "100/100 [==============================] - 307s 3s/step - loss: 0.2260 - acc: 0.9160 - val_loss: 0.6693 - val_acc: 0.7360\n",
      "Epoch 20/30\n",
      "100/100 [==============================] - 306s 3s/step - loss: 0.2028 - acc: 0.9230 - val_loss: 0.6334 - val_acc: 0.7320\n",
      "Epoch 21/30\n",
      "100/100 [==============================] - 315s 3s/step - loss: 0.1829 - acc: 0.9345 - val_loss: 0.6353 - val_acc: 0.7480\n",
      "Epoch 22/30\n",
      "100/100 [==============================] - 315s 3s/step - loss: 0.1711 - acc: 0.9380 - val_loss: 0.6870 - val_acc: 0.7340\n",
      "Epoch 23/30\n",
      "100/100 [==============================] - 290s 3s/step - loss: 0.1524 - acc: 0.9460 - val_loss: 0.6920 - val_acc: 0.7360\n",
      "Epoch 24/30\n",
      "100/100 [==============================] - 286s 3s/step - loss: 0.1373 - acc: 0.9535 - val_loss: 0.7190 - val_acc: 0.7390\n",
      "Epoch 25/30\n",
      "100/100 [==============================] - 319s 3s/step - loss: 0.1222 - acc: 0.9580 - val_loss: 0.7504 - val_acc: 0.7420\n",
      "Epoch 26/30\n",
      "100/100 [==============================] - 712s 7s/step - loss: 0.1104 - acc: 0.9640 - val_loss: 0.7361 - val_acc: 0.7470\n",
      "Epoch 27/30\n",
      "100/100 [==============================] - 618s 6s/step - loss: 0.0951 - acc: 0.9690 - val_loss: 0.7645 - val_acc: 0.7390\n",
      "Epoch 28/30\n",
      "100/100 [==============================] - 537s 5s/step - loss: 0.0818 - acc: 0.9730 - val_loss: 0.9468 - val_acc: 0.7270\n",
      "Epoch 29/30\n",
      "100/100 [==============================] - 538s 5s/step - loss: 0.0766 - acc: 0.9760 - val_loss: 0.8379 - val_acc: 0.7360\n",
      "Epoch 30/30\n",
      "100/100 [==============================] - 533s 5s/step - loss: 0.0606 - acc: 0.9865 - val_loss: 0.8647 - val_acc: 0.7500\n"
     ]
    }
   ],
   "source": [
    "history = model.fit_generator(\n",
    "train_generator,\n",
    "steps_per_epoch=100,\n",
    "epochs=30,\n",
    "validation_data=validation_generator,\n",
    "validation_steps=50\n",
    ")"
   ]
  },
  {
   "cell_type": "code",
   "execution_count": 20,
   "metadata": {},
   "outputs": [],
   "source": [
    "model.save('cats_and_dogs_small_1.h5')"
   ]
  },
  {
   "cell_type": "code",
   "execution_count": 22,
   "metadata": {},
   "outputs": [
    {
     "data": {
      "image/png": "[encoded data removed]",
      "text/plain": [
       "<matplotlib.figure.Figure at 0x27797faec50>"
      ]
     },
     "metadata": {},
     "output_type": "display_data"
    },
    {
     "data": {
      "image/png": "[encoded data removed]",
      "text/plain": [
       "<matplotlib.figure.Figure at 0x27798053390>"
      ]
     },
     "metadata": {},
     "output_type": "display_data"
    }
   ],
   "source": [
    "import matplotlib.pyplot as plt\n",
    "acc = history.history['acc']\n",
    "val_acc = history.history['val_acc']\n",
    "loss = history.history['loss']\n",
    "val_loss = history.history['val_loss']\n",
    "epochs = range(1, len(acc) + 1)\n",
    "plt.plot(epochs, acc, 'bo', label='Training acc')\n",
    "plt.plot(epochs, val_acc, 'b', label='Validation acc')\n",
    "plt.title('Training and validation accuracy')\n",
    "plt.legend()\n",
    "plt.figure()\n",
    "plt.plot(epochs, loss, 'bo', label='Training loss')\n",
    "plt.plot(epochs, val_loss, 'b', label='Validation loss')\n",
    "plt.title('Training and validation loss')\n",
    "plt.legend()\n",
    "plt.show()"
   ]
  },
  {
   "cell_type": "code",
   "execution_count": null,
   "metadata": {},
   "outputs": [],
   "source": []
  }
 ],
 "metadata": {
  "kernelspec": {
   "display_name": "Python 3",
   "language": "python",
   "name": "python3"
  },
  "language_info": {
   "codemirror_mode": {
    "name": "ipython",
    "version": 3
   },
   "file_extension": ".py",
   "mimetype": "text/x-python",
   "name": "python",
   "nbconvert_exporter": "python",
   "pygments_lexer": "ipython3",
   "version": "3.7.1"
  }
 },
 "nbformat": 4,
 "nbformat_minor": 2
}
