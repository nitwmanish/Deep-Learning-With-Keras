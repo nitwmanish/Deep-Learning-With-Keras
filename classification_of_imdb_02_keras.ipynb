{
 "cells": [
  {
   "cell_type": "code",
   "execution_count": 1,
   "metadata": {},
   "outputs": [
    {
     "name": "stderr",
     "output_type": "stream",
     "text": [
      "Using TensorFlow backend.\n"
     ]
    }
   ],
   "source": [
    "from keras.datasets import imdb"
   ]
  },
  {
   "cell_type": "code",
   "execution_count": 7,
   "metadata": {},
   "outputs": [],
   "source": [
    "(train_data,train_lables),(test_data,test_lables) = imdb.load_data(num_words = 10000)"
   ]
  },
  {
   "cell_type": "code",
   "execution_count": 9,
   "metadata": {},
   "outputs": [
    {
     "data": {
      "text/plain": [
       "(25000,)"
      ]
     },
     "execution_count": 9,
     "metadata": {},
     "output_type": "execute_result"
    }
   ],
   "source": [
    "train_data.shape"
   ]
  },
  {
   "cell_type": "code",
   "execution_count": 10,
   "metadata": {},
   "outputs": [
    {
     "data": {
      "text/plain": [
       "(25000,)"
      ]
     },
     "execution_count": 10,
     "metadata": {},
     "output_type": "execute_result"
    }
   ],
   "source": [
    "test_data.shape"
   ]
  },
  {
   "cell_type": "code",
   "execution_count": 8,
   "metadata": {},
   "outputs": [
    {
     "data": {
      "text/plain": [
       "9999"
      ]
     },
     "execution_count": 8,
     "metadata": {},
     "output_type": "execute_result"
    }
   ],
   "source": [
    "max([max(sequence) for sequence in train_data])"
   ]
  },
  {
   "cell_type": "code",
   "execution_count": 14,
   "metadata": {},
   "outputs": [
    {
     "data": {
      "text/plain": [
       "25000"
      ]
     },
     "execution_count": 14,
     "metadata": {},
     "output_type": "execute_result"
    }
   ],
   "source": []
  },
  {
   "cell_type": "code",
   "execution_count": 25,
   "metadata": {},
   "outputs": [],
   "source": [
    "import numpy as np\n",
    "def vectorize_sequences(sequences, dimension=10000):\n",
    "    results = np.zeros((len(sequences), dimension))\n",
    "    for i, sequence in enumerate(sequences):\n",
    "        results[i, sequence] = 1.\n",
    "    return results"
   ]
  },
  {
   "cell_type": "code",
   "execution_count": 26,
   "metadata": {},
   "outputs": [],
   "source": [
    "x_train = vectorize_sequences(train_data)\n",
    "x_test = vectorize_sequences(test_data)"
   ]
  },
  {
   "cell_type": "code",
   "execution_count": null,
   "metadata": {},
   "outputs": [],
   "source": [
    "y_train = np.array(train_lables).astype('float32')\n",
    "y_test = np.array(test_lables).astype('float32')"
   ]
  },
  {
   "cell_type": "code",
   "execution_count": 39,
   "metadata": {},
   "outputs": [],
   "source": [
    "x_val = x_train[:10000]\n",
    "partial_x_train = x_train[10000:]\n",
    "y_val = y_train[:10000]\n",
    "partial_y_train = y_train[10000:]"
   ]
  },
  {
   "cell_type": "code",
   "execution_count": 41,
   "metadata": {},
   "outputs": [],
   "source": [
    "from keras import layers\n",
    "from keras import models\n",
    "from keras import optimizers\n",
    "from keras import losses\n",
    "from keras import metrics\n",
    "\n",
    "model = models.Sequential()\n",
    "model.add(layers.Dense(16, activation = 'relu', input_shape = (10000,)))\n",
    "model.add(layers.Dense(1, activation = 'sigmoid'))\n",
    "model.compile(loss=losses.binary_crossentropy, optimizer=optimizers.RMSprop(lr=0.001), metrics=[metrics.binary_accuracy])"
   ]
  },
  {
   "cell_type": "code",
   "execution_count": 42,
   "metadata": {},
   "outputs": [
    {
     "name": "stdout",
     "output_type": "stream",
     "text": [
      "Train on 15000 samples, validate on 10000 samples\n",
      "Epoch 1/20\n",
      "15000/15000 [==============================] - 5s 307us/step - loss: 0.4904 - binary_accuracy: 0.7933 - val_loss: 0.3741 - val_binary_accuracy: 0.8709\n",
      "Epoch 2/20\n",
      "15000/15000 [==============================] - 3s 169us/step - loss: 0.3076 - binary_accuracy: 0.9037 - val_loss: 0.3206 - val_binary_accuracy: 0.8793\n",
      "Epoch 3/20\n",
      "15000/15000 [==============================] - 3s 178us/step - loss: 0.2386 - binary_accuracy: 0.9241 - val_loss: 0.2895 - val_binary_accuracy: 0.8880\n",
      "Epoch 4/20\n",
      "15000/15000 [==============================] - 3s 179us/step - loss: 0.1949 - binary_accuracy: 0.9411 - val_loss: 0.2875 - val_binary_accuracy: 0.8838\n",
      "Epoch 5/20\n",
      "15000/15000 [==============================] - 3s 167us/step - loss: 0.1652 - binary_accuracy: 0.9520 - val_loss: 0.2794 - val_binary_accuracy: 0.8865\n",
      "Epoch 6/20\n",
      "15000/15000 [==============================] - 3s 175us/step - loss: 0.1421 - binary_accuracy: 0.9593 - val_loss: 0.2859 - val_binary_accuracy: 0.8855\n",
      "Epoch 7/20\n",
      "15000/15000 [==============================] - 3s 175us/step - loss: 0.1249 - binary_accuracy: 0.9649 - val_loss: 0.2878 - val_binary_accuracy: 0.8852\n",
      "Epoch 8/20\n",
      "15000/15000 [==============================] - 3s 190us/step - loss: 0.1079 - binary_accuracy: 0.9702 - val_loss: 0.3031 - val_binary_accuracy: 0.8816\n",
      "Epoch 9/20\n",
      "15000/15000 [==============================] - 3s 174us/step - loss: 0.0962 - binary_accuracy: 0.9737 - val_loss: 0.3020 - val_binary_accuracy: 0.8847\n",
      "Epoch 10/20\n",
      "15000/15000 [==============================] - 3s 169us/step - loss: 0.0846 - binary_accuracy: 0.9789 - val_loss: 0.3128 - val_binary_accuracy: 0.8841\n",
      "Epoch 11/20\n",
      "15000/15000 [==============================] - 3s 175us/step - loss: 0.0747 - binary_accuracy: 0.9828 - val_loss: 0.3323 - val_binary_accuracy: 0.8781\n",
      "Epoch 12/20\n",
      "15000/15000 [==============================] - 2s 163us/step - loss: 0.0659 - binary_accuracy: 0.9849 - val_loss: 0.3402 - val_binary_accuracy: 0.8797\n",
      "Epoch 13/20\n",
      "15000/15000 [==============================] - 3s 174us/step - loss: 0.0582 - binary_accuracy: 0.9877 - val_loss: 0.3605 - val_binary_accuracy: 0.8800\n",
      "Epoch 14/20\n",
      "15000/15000 [==============================] - 2s 167us/step - loss: 0.0503 - binary_accuracy: 0.9903 - val_loss: 0.3717 - val_binary_accuracy: 0.8774\n",
      "Epoch 15/20\n",
      "15000/15000 [==============================] - 3s 180us/step - loss: 0.0445 - binary_accuracy: 0.9918 - val_loss: 0.4011 - val_binary_accuracy: 0.8758\n",
      "Epoch 16/20\n",
      "15000/15000 [==============================] - 2s 165us/step - loss: 0.0393 - binary_accuracy: 0.9935 - val_loss: 0.4077 - val_binary_accuracy: 0.8754\n",
      "Epoch 17/20\n",
      "15000/15000 [==============================] - 3s 170us/step - loss: 0.0336 - binary_accuracy: 0.9942 - val_loss: 0.4326 - val_binary_accuracy: 0.8691\n",
      "Epoch 18/20\n",
      "15000/15000 [==============================] - 3s 169us/step - loss: 0.0303 - binary_accuracy: 0.9955 - val_loss: 0.4439 - val_binary_accuracy: 0.8739\n",
      "Epoch 19/20\n",
      "15000/15000 [==============================] - 3s 170us/step - loss: 0.0259 - binary_accuracy: 0.9962 - val_loss: 0.4616 - val_binary_accuracy: 0.8722\n",
      "Epoch 20/20\n",
      "15000/15000 [==============================] - 3s 177us/step - loss: 0.0228 - binary_accuracy: 0.9977 - val_loss: 0.5217 - val_binary_accuracy: 0.8576\n"
     ]
    }
   ],
   "source": [
    "history = model.fit(partial_x_train, partial_y_train, epochs=20, batch_size=512, validation_data=(x_val,y_val))"
   ]
  },
  {
   "cell_type": "code",
   "execution_count": 43,
   "metadata": {},
   "outputs": [],
   "source": [
    "history_dict = history.history"
   ]
  },
  {
   "cell_type": "code",
   "execution_count": 44,
   "metadata": {},
   "outputs": [
    {
     "data": {
      "text/plain": [
       "dict_keys(['val_loss', 'val_binary_accuracy', 'loss', 'binary_accuracy'])"
      ]
     },
     "execution_count": 44,
     "metadata": {},
     "output_type": "execute_result"
    }
   ],
   "source": [
    "history_dict.keys()"
   ]
  },
  {
   "cell_type": "code",
   "execution_count": 47,
   "metadata": {},
   "outputs": [
    {
     "data": {
      "image/png": "[encoded data removed]",
      "text/plain": [
       "<matplotlib.figure.Figure at 0x231c8685470>"
      ]
     },
     "metadata": {},
     "output_type": "display_data"
    }
   ],
   "source": [
    "import matplotlib.pyplot as plt\n",
    "loss_values = history_dict['loss']\n",
    "val_loss_values = history_dict['val_loss']\n",
    "epochs = range(1, len(history_dict['binary_accuracy']) + 1)\n",
    "plt.plot(epochs, loss_values, 'bo', label='Training loss')\n",
    "plt.plot(epochs, val_loss_values, 'b', label='Validation loss')\n",
    "plt.title('Training and validation loss')\n",
    "plt.xlabel('Epochs')\n",
    "plt.ylabel('Loss')\n",
    "plt.legend()\n",
    "plt.show()"
   ]
  },
  {
   "cell_type": "code",
   "execution_count": 48,
   "metadata": {},
   "outputs": [
    {
     "data": {
      "image/png": "[encoded data removed]",
      "text/plain": [
       "<matplotlib.figure.Figure at 0x231c8529128>"
      ]
     },
     "metadata": {},
     "output_type": "display_data"
    }
   ],
   "source": [
    "plt.clf()\n",
    "acc_values = history_dict['binary_accuracy']\n",
    "val_acc_values = history_dict['val_binary_accuracy']\n",
    "plt.plot(epochs, acc_values, 'bo', label='Training acc')\n",
    "plt.plot(epochs, val_acc_values, 'b', label='Validation acc')\n",
    "plt.title('Training and validation accuracy')\n",
    "plt.xlabel('Epochs')\n",
    "plt.ylabel('accuracy')\n",
    "plt.legend()\n",
    "plt.show()"
   ]
  },
  {
   "cell_type": "code",
   "execution_count": 50,
   "metadata": {},
   "outputs": [
    {
     "name": "stdout",
     "output_type": "stream",
     "text": [
      "Epoch 1/3\n",
      "15000/15000 [==============================] - 2s 133us/step - loss: 0.4906 - binary_accuracy: 0.8033\n",
      "Epoch 2/3\n",
      "15000/15000 [==============================] - 2s 132us/step - loss: 0.3115 - binary_accuracy: 0.9057\n",
      "Epoch 3/3\n",
      "15000/15000 [==============================] - 2s 115us/step - loss: 0.2417 - binary_accuracy: 0.9242\n",
      "25000/25000 [==============================] - 3s 125us/step\n"
     ]
    }
   ],
   "source": [
    "from keras import layers\n",
    "from keras import models\n",
    "from keras import optimizers\n",
    "from keras import losses\n",
    "from keras import metrics\n",
    "\n",
    "model = models.Sequential()\n",
    "model.add(layers.Dense(16, activation = 'relu', input_shape = (10000,)))\n",
    "model.add(layers.Dense(1, activation = 'sigmoid'))\n",
    "model.compile(loss=losses.binary_crossentropy, optimizer=optimizers.RMSprop(lr=0.001), metrics=[metrics.binary_accuracy])\n",
    "history = model.fit(partial_x_train, partial_y_train, epochs=3, batch_size=512)\n",
    "results = model.evaluate(x_test, y_test)"
   ]
  },
  {
   "cell_type": "code",
   "execution_count": 51,
   "metadata": {},
   "outputs": [
    {
     "data": {
      "text/plain": [
       "array([[0.2876297 ],\n",
       "       [0.99027866],\n",
       "       [0.6495205 ],\n",
       "       ...,\n",
       "       [0.10332194],\n",
       "       [0.17546967],\n",
       "       [0.40150583]], dtype=float32)"
      ]
     },
     "execution_count": 51,
     "metadata": {},
     "output_type": "execute_result"
    }
   ],
   "source": [
    "model.predict(x_test)"
   ]
  },
  {
   "cell_type": "code",
   "execution_count": null,
   "metadata": {},
   "outputs": [],
   "source": []
  }
 ],
 "metadata": {
  "kernelspec": {
   "display_name": "Python 3",
   "language": "python",
   "name": "python3"
  },
  "language_info": {
   "codemirror_mode": {
    "name": "ipython",
    "version": 3
   },
   "file_extension": ".py",
   "mimetype": "text/x-python",
   "name": "python",
   "nbconvert_exporter": "python",
   "pygments_lexer": "ipython3",
   "version": "3.6.3"
  }
 },
 "nbformat": 4,
 "nbformat_minor": 2
}
