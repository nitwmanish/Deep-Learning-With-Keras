{
 "cells": [
  {
   "cell_type": "code",
   "execution_count": 1,
   "metadata": {},
   "outputs": [
    {
     "name": "stderr",
     "output_type": "stream",
     "text": [
      "Using TensorFlow backend.\n"
     ]
    }
   ],
   "source": [
    "from keras.datasets import reuters\n",
    "(train_data,train_labels),(test_data, test_labels) = reuters.load_data(num_words=1000)"
   ]
  },
  {
   "cell_type": "code",
   "execution_count": 2,
   "metadata": {},
   "outputs": [],
   "source": [
    "import numpy as np\n",
    "def vecorized_sequences(sequences , dimention=10000):\n",
    "    result = np.zeros((len(sequences), dimention))\n",
    "    for index, sequence in enumerate(sequences):\n",
    "        result[index, sequence] = 1.0\n",
    "    return result    "
   ]
  },
  {
   "cell_type": "code",
   "execution_count": 3,
   "metadata": {},
   "outputs": [],
   "source": [
    "x_train = vecorized_sequences(train_data)\n",
    "x_test = vecorized_sequences(test_data)"
   ]
  },
  {
   "cell_type": "code",
   "execution_count": 4,
   "metadata": {},
   "outputs": [],
   "source": [
    "from keras.utils.np_utils import to_categorical\n",
    "one_hot_train_labels = to_categorical(train_labels)\n",
    "one_hot_test_labels = to_categorical(test_labels)"
   ]
  },
  {
   "cell_type": "code",
   "execution_count": 5,
   "metadata": {},
   "outputs": [],
   "source": [
    "from keras import layers\n",
    "from keras import models\n",
    "from keras import metrics\n",
    "from keras import optimizers\n",
    "from keras import losses\n",
    "from keras import activations"
   ]
  },
  {
   "cell_type": "code",
   "execution_count": 6,
   "metadata": {},
   "outputs": [],
   "source": [
    "model = models.Sequential()\n",
    "model.add(layers.Dense(64, activation='relu', input_shape=(10000,)))\n",
    "model.add(layers.Dense(4, activation='relu'))\n",
    "model.add(layers.Dense(46, activation='softmax'))\n",
    "model.compile(optimizer=optimizers.RMSprop(lr=0.001), loss=losses.categorical_crossentropy, metrics=['accuracy'])"
   ]
  },
  {
   "cell_type": "code",
   "execution_count": null,
   "metadata": {},
   "outputs": [],
   "source": []
  },
  {
   "cell_type": "code",
   "execution_count": 7,
   "metadata": {},
   "outputs": [],
   "source": [
    "x_val = x_train[:1000]\n",
    "partial_x_train = x_train[1000:]\n",
    "y_val = one_hot_train_labels[:1000]\n",
    "partial_y_train = one_hot_train_labels[1000:]"
   ]
  },
  {
   "cell_type": "code",
   "execution_count": 8,
   "metadata": {},
   "outputs": [
    {
     "name": "stdout",
     "output_type": "stream",
     "text": [
      "Train on 7982 samples, validate on 1000 samples\n",
      "Epoch 1/20\n",
      "7982/7982 [==============================] - 5s 660us/step - loss: 3.4616 - acc: 0.3158 - val_loss: 3.1145 - val_acc: 0.3640\n",
      "Epoch 2/20\n",
      "7982/7982 [==============================] - 3s 435us/step - loss: 2.8445 - acc: 0.4648 - val_loss: 2.5803 - val_acc: 0.5590\n",
      "Epoch 3/20\n",
      "7982/7982 [==============================] - 4s 452us/step - loss: 2.3583 - acc: 0.5849 - val_loss: 2.1834 - val_acc: 0.5880\n",
      "Epoch 4/20\n",
      "7982/7982 [==============================] - 4s 440us/step - loss: 2.0123 - acc: 0.6054 - val_loss: 1.9153 - val_acc: 0.6000\n",
      "Epoch 5/20\n",
      "7982/7982 [==============================] - 4s 440us/step - loss: 1.7766 - acc: 0.6216 - val_loss: 1.7449 - val_acc: 0.6160\n",
      "Epoch 6/20\n",
      "7982/7982 [==============================] - 4s 473us/step - loss: 1.6231 - acc: 0.6309 - val_loss: 1.6309 - val_acc: 0.6260\n",
      "Epoch 7/20\n",
      "7982/7982 [==============================] - 4s 450us/step - loss: 1.5194 - acc: 0.6511 - val_loss: 1.5585 - val_acc: 0.6370\n",
      "Epoch 8/20\n",
      "7982/7982 [==============================] - 3s 422us/step - loss: 1.4445 - acc: 0.6670 - val_loss: 1.5061 - val_acc: 0.6430\n",
      "Epoch 9/20\n",
      "7982/7982 [==============================] - 4s 452us/step - loss: 1.3892 - acc: 0.6758 - val_loss: 1.4702 - val_acc: 0.6590\n",
      "Epoch 10/20\n",
      "7982/7982 [==============================] - 4s 441us/step - loss: 1.3459 - acc: 0.6843 - val_loss: 1.4311 - val_acc: 0.6610\n",
      "Epoch 11/20\n",
      "7982/7982 [==============================] - 4s 460us/step - loss: 1.3085 - acc: 0.6903 - val_loss: 1.4089 - val_acc: 0.6710\n",
      "Epoch 12/20\n",
      "7982/7982 [==============================] - 3s 426us/step - loss: 1.2749 - acc: 0.6957 - val_loss: 1.3862 - val_acc: 0.6780\n",
      "Epoch 13/20\n",
      "7982/7982 [==============================] - 4s 468us/step - loss: 1.2479 - acc: 0.7032 - val_loss: 1.3691 - val_acc: 0.6770\n",
      "Epoch 14/20\n",
      "7982/7982 [==============================] - 3s 425us/step - loss: 1.2256 - acc: 0.7060 - val_loss: 1.3543 - val_acc: 0.6830\n",
      "Epoch 15/20\n",
      "7982/7982 [==============================] - 4s 451us/step - loss: 1.1981 - acc: 0.7093 - val_loss: 1.3437 - val_acc: 0.6850\n",
      "Epoch 16/20\n",
      "7982/7982 [==============================] - 3s 428us/step - loss: 1.1760 - acc: 0.7159 - val_loss: 1.3327 - val_acc: 0.6850\n",
      "Epoch 17/20\n",
      "7982/7982 [==============================] - 4s 489us/step - loss: 1.1544 - acc: 0.7171 - val_loss: 1.3213 - val_acc: 0.6930\n",
      "Epoch 18/20\n",
      "7982/7982 [==============================] - 3s 421us/step - loss: 1.1365 - acc: 0.7225 - val_loss: 1.3232 - val_acc: 0.6930\n",
      "Epoch 19/20\n",
      "7982/7982 [==============================] - 4s 492us/step - loss: 1.1199 - acc: 0.7220 - val_loss: 1.3134 - val_acc: 0.6950\n",
      "Epoch 20/20\n",
      "7982/7982 [==============================] - 3s 408us/step - loss: 1.1013 - acc: 0.7270 - val_loss: 1.3024 - val_acc: 0.6950\n"
     ]
    },
    {
     "data": {
      "text/plain": [
       "<keras.callbacks.History at 0x285a78504e0>"
      ]
     },
     "execution_count": 8,
     "metadata": {},
     "output_type": "execute_result"
    }
   ],
   "source": [
    "model.fit(partial_x_train,partial_y_train, epochs=20, batch_size=512, validation_data=(x_val,y_val))"
   ]
  },
  {
   "cell_type": "code",
   "execution_count": 9,
   "metadata": {},
   "outputs": [
    {
     "name": "stdout",
     "output_type": "stream",
     "text": [
      "2246/2246 [==============================] - 1s 609us/step\n"
     ]
    }
   ],
   "source": [
    "results = model.evaluate(x_test, one_hot_test_labels)"
   ]
  },
  {
   "cell_type": "code",
   "execution_count": 10,
   "metadata": {},
   "outputs": [
    {
     "data": {
      "text/plain": [
       "[1.385244671192322, 0.6798753339269813]"
      ]
     },
     "execution_count": 10,
     "metadata": {},
     "output_type": "execute_result"
    }
   ],
   "source": [
    "results"
   ]
  },
  {
   "cell_type": "code",
   "execution_count": null,
   "metadata": {},
   "outputs": [],
   "source": []
  }
 ],
 "metadata": {
  "kernelspec": {
   "display_name": "Python 3",
   "language": "python",
   "name": "python3"
  },
  "language_info": {
   "codemirror_mode": {
    "name": "ipython",
    "version": 3
   },
   "file_extension": ".py",
   "mimetype": "text/x-python",
   "name": "python",
   "nbconvert_exporter": "python",
   "pygments_lexer": "ipython3",
   "version": "3.6.3"
  }
 },
 "nbformat": 4,
 "nbformat_minor": 2
}
